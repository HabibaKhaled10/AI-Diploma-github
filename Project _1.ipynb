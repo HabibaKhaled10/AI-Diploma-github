{
 "cells": [
  {
   "cell_type": "markdown",
   "id": "running-example",
   "metadata": {},
   "source": [
    "# Project 2\n",
    "\n",
    "## By using what we've learned about oop create a banking system program \n",
    "\n",
    "\n",
    "### Parent class : holds user account info and show the user details \n",
    "\n",
    "\n",
    "### Child class : about bank and holds the balance and can  can make deposits , withdraw and show the final balance  functions  .....\n"
   ]
  },
  {
   "cell_type": "code",
   "execution_count": 61,
   "id": "correct-breach",
   "metadata": {},
   "outputs": [
    {
     "name": "stdout",
     "output_type": "stream",
     "text": [
      "600\n",
      "500\n"
     ]
    },
    {
     "data": {
      "text/plain": [
       "500"
      ]
     },
     "execution_count": 61,
     "metadata": {},
     "output_type": "execute_result"
    }
   ],
   "source": [
    "# Parent class that holds the user info\n",
    "class user():\n",
    "    def __init__(self,name,age,accountno):\n",
    "        self.name=name\n",
    "        self.age=age\n",
    "        self.accountno=accountno\n",
    "    def userinfo(self):\n",
    "        print(\"Name: \",self.name)\n",
    "        print(\"Age: \",self.age)\n",
    "        print(\"Account number: \",self.accountno)\n",
    "\n",
    "\n",
    "#Child class that supports the transactions\n",
    "class transactions(user):\n",
    "    def __init__(self,name,age,accountno,balance):\n",
    "        super().__init__(name,age,accountno)\n",
    "        self.balance=balance\n",
    "        \n",
    "    #Deposit function\n",
    "    def deposit(self,deposit_amount):\n",
    "        self.balance=self.balance+deposit_amount\n",
    "        print(self.balance)\n",
    "    \n",
    "    # Withdraw function\n",
    "    def withdraw(self,withdraw_amount):\n",
    "        self.balance=self.balance-withdraw_amount\n",
    "        print(self.balance)\n",
    "       \n",
    "    \n",
    "    #Printing final balance\n",
    "    def final_balance(self):\n",
    "        return self.balance \n",
    "    \n",
    "user1=transactions(\"Habiba\",21,\"D445HJ\",200)\n",
    "user1.deposit(400)\n",
    "user1.withdraw(100)\n",
    "user1.final_balance()\n",
    "\n",
    "\n",
    "\n",
    "\n",
    "        \n",
    "        \n",
    "        \n",
    "\n"
   ]
  },
  {
   "cell_type": "code",
   "execution_count": null,
   "id": "48821e20",
   "metadata": {},
   "outputs": [],
   "source": []
  },
  {
   "cell_type": "code",
   "execution_count": null,
   "id": "bce12884",
   "metadata": {},
   "outputs": [],
   "source": []
  }
 ],
 "metadata": {
  "kernelspec": {
   "display_name": "Python 3 (ipykernel)",
   "language": "python",
   "name": "python3"
  },
  "language_info": {
   "codemirror_mode": {
    "name": "ipython",
    "version": 3
   },
   "file_extension": ".py",
   "mimetype": "text/x-python",
   "name": "python",
   "nbconvert_exporter": "python",
   "pygments_lexer": "ipython3",
   "version": "3.9.7"
  }
 },
 "nbformat": 4,
 "nbformat_minor": 5
}
